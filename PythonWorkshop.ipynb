{
  "metadata": {
    "kernelspec": {
      "display_name": "ml1-arm64",
      "language": "python",
      "name": "ml1-arm64"
    },
    "language_info": {
      "codemirror_mode": {
        "name": "ipython",
        "version": 3
      },
      "file_extension": ".py",
      "mimetype": "text/x-python",
      "name": "python",
      "nbconvert_exporter": "python",
      "pygments_lexer": "ipython3",
      "version": "3.9.1"
    },
    "toc-autonumbering": false,
    "toc-showmarkdowntxt": false,
    "toc-showtags": false
  },
  "nbformat": 4,
  "nbformat_minor": 4,
  "cells": [
    {
      "cell_type": "markdown",
      "metadata": {},
      "source": [
        "# Basic Python for Data Science\n",
        "\n",
        "A quickstart Python workshop..."
      ]
    },
    {
      "cell_type": "markdown",
      "metadata": {},
      "source": [
        "## 0. What you will learn\n",
        "\n",
        "Our aim in this workshop is to make you familiar with the basics of Python, focusing on those aspects that will jump-start your ability to write data-science programs. \n",
        "\n",
        "In other words, we want to make you **dangerous enough** soon :-).\n",
        "\n",
        "Accordingly, we will cover fundamental python concepts including variables, lists, dictionaries, iteration, and functions; moving on to useful list like objects such as Pandas Series and numpy `ndarray`s, and their use in analyzing and making plots of data.\n",
        "\n",
        "Here is the outline:\n",
        "\n",
        "1. Getting Started\n",
        "2. Libraries and Functions\n",
        "3. Dictionaries\n",
        "4. Listiness\n",
        "5. Plotting with matplotlib\n",
        "6. Putting it all together\n",
        "\n",
        "We will end up with the code shown below, which leads to a plot of unemployment rates in multiple American states. This example exercises all basic python concepts for data science..if you understand it you are golden! \n",
        "\n",
        "Finally, a homework problem will help cement your understanding, and make you even more dangerous!\n",
        "\n",
        "Here is what the unemployment data looks like:"
      ]
    },
    {
      "cell_type": "markdown",
      "metadata": {},
      "source": [
        "\n",
        "```\n",
        "DATE,FLUR\n",
        "1976-01-01,9.7\n",
        "1976-02-01,9.7\n",
        "1976-03-01,9.6\n",
        "1976-04-01,9.5\n",
        "1976-05-01,9.3\n",
        "1976-06-01,9.2\n",
        "1976-07-01,9.1\n",
        "1976-08-01,9.1\n",
        "1976-09-01,9.1\n",
        "1976-10-01,9.1\n",
        "1976-11-01,9.1\n",
        "1976-12-01,9.1\n",
        "1977-01-01,9.0\n",
        "```\n",
        "\n",
        "...And here is the code..."
      ]
    },
    {
      "cell_type": "code",
      "execution_count": 7,
      "metadata": {},
      "outputs": [],
      "source": [
        "# various imports of libraries\n",
        "\n",
        "import numpy as np\n",
        "import pandas as pd\n",
        "import matplotlib.pyplot as plt\n",
        "\n",
        "# ask matplotlib to plot in notebooks\n",
        "%matplotlib inline\n",
        "\n",
        "# setting up plot sizes\n",
        "width_inches = 9\n",
        "subplot_height_inches = 2\n",
        "\n",
        "# where is our data?\n",
        "baseurl = \"https://raw.githubusercontent.com/univai-ghf/ghfmedia/main/\"\n",
        "\n",
        "# defining a function to load and clean unemployment data\n",
        "def get_unemployment_data(state_abbrev):\n",
        "    # fetch and read csv file into a dataframe\n",
        "    data = pd.read_csv(baseurl+\"data/\"+state_abbrev+\"UR.csv\")\n",
        "    # convert date to a python datetime object\n",
        "    data['DATE'] = pd.to_datetime(data['DATE'])\n",
        "    return data\n",
        "\n",
        "# creating a dictionary the hold the data, with\n",
        "# the lookup keys being the state abbreviations\n",
        "states = ['AL', 'TN', 'TX', 'NY', 'CA']\n",
        "state_data=dict()\n",
        "for abbrev in states:\n",
        "    state_data[abbrev] = get_unemployment_data(abbrev)\n",
        "    \n",
        "# plotting the data    \n",
        "\n",
        "# create as many subplots as we have states\n",
        "fig, ax = plt.subplots(nrows=len(states), \n",
        "                       figsize = (width_inches, subplot_height_inches*len(states)))\n",
        "\n",
        "counter = 0\n",
        "for state_abbrev in states:\n",
        "    # get daraframe from dictionary\n",
        "    data = state_data[state_abbrev]\n",
        "    # plot the data\n",
        "    ax[counter].plot(data['DATE'], data[state_abbrev+'UR'])\n",
        "    # label which state it is\n",
        "    ax[counter].set_ylabel(state_abbrev)\n",
        "    counter = counter + 1\n",
        "# Year label only below last subplot\n",
        "ax[4].set_xlabel(\"Year\")\n",
        "\n",
        "# title only on first subplot\n",
        "ax[0].set_title(\"Percentage Un-employment\");"
      ]
    },
    {
      "cell_type": "markdown",
      "metadata": {
        "id": "4A7IZqAlgwIH"
      },
      "source": [
        "## 1. Getting Started\n",
        "\n",
        "Lets start at the very beginning. You can use Python as a calculator. Lets do some arithmetic in Python."
      ]
    },
    {
      "cell_type": "markdown",
      "metadata": {
        "id": "4A7IZqAlgwIH"
      },
      "source": [
        "### Arithmetic Operators"
      ]
    },
    {
      "cell_type": "markdown",
      "metadata": {
        "id": "F0rZHyfEgc20"
      },
      "source": [
        "![](https://github.com/univai-ghf/ghfmedia/raw/main/images/calculator.png)"
      ]
    },
    {
      "cell_type": "code",
      "execution_count": 2,
      "metadata": {
        "colab": {
          "base_uri": "https://localhost:8080/"
        },
        "id": "siqC1BNaggkD",
        "outputId": "4d2b00bf-b5c1-4160-a7e0-10deced5bd2b"
      },
      "outputs": [],
      "source": [
        "1 + 1"
      ]
    },
    {
      "cell_type": "code",
      "execution_count": 3,
      "metadata": {
        "colab": {
          "base_uri": "https://localhost:8080/"
        },
        "id": "WWns1uqOhH-L",
        "outputId": "0fc197c2-e463-4d11-f213-c68f8a323c7f"
      },
      "outputs": [],
      "source": [
        "2**10 # 2 to the power of 10"
      ]
    },
    {
      "cell_type": "code",
      "execution_count": 4,
      "metadata": {
        "colab": {
          "base_uri": "https://localhost:8080/"
        },
        "id": "_9OTo_JWhKZx",
        "outputId": "9776ff9d-d782-4733-c6ec-84a687532b7b"
      },
      "outputs": [],
      "source": [
        "5/2"
      ]
    },
    {
      "cell_type": "code",
      "execution_count": 5,
      "metadata": {
        "colab": {
          "base_uri": "https://localhost:8080/"
        },
        "id": "yyOpHZluhLrN",
        "outputId": "0077e001-d8d0-4388-8e8c-4c9b98b1c3c4"
      },
      "outputs": [],
      "source": [
        "5//2 # integer division"
      ]
    },
    {
      "cell_type": "code",
      "execution_count": 6,
      "metadata": {},
      "outputs": [],
      "source": [
        "5 % 2 # get the remainder"
      ]
    },
    {
      "cell_type": "markdown",
      "metadata": {
        "id": "hIubnDszhNCF"
      },
      "source": [
        "### Variables\n",
        "\n",
        "Variables are labels for values\n",
        "\n",
        "- Start with a letter or underscore\n",
        "- Can contain only alpha-numeric characters and underscore\n",
        "- Are case sensitive"
      ]
    },
    {
      "cell_type": "code",
      "execution_count": 8,
      "metadata": {
        "colab": {
          "base_uri": "https://localhost:8080/"
        },
        "id": "RvjT6_VchV9A",
        "outputId": "1d1d9075-a487-451a-cd4a-c62d5e072a35"
      },
      "outputs": [],
      "source": [
        "Var = \"hello\" # CANT DO THIS 9variable = \"hello\"\n",
        "Var"
      ]
    },
    {
      "cell_type": "markdown",
      "metadata": {
        "id": "znklPOb_hxSJ"
      },
      "source": [
        "What happened above? In the computer's memory, a location was found, and then filled with the word \"hello\". Then a variable Var was created and was used to label this memory location.\n",
        "\n",
        "![](https://github.com/univai-ghf/ghfmedia/raw/main/images/labelmem.jpg)\n",
        "\n",
        "A variable is literally a label. You can think of it as a post-it, or sticky note, or a pointer. Do not think of it as a box in which a value is stored.\n",
        "\n"
      ]
    },
    {
      "cell_type": "markdown",
      "metadata": {
        "id": "znklPOb_hxSJ"
      },
      "source": [
        "### Types\n",
        "\n",
        "Python is a **typed** language. That is, values in Python have types. The most general type is `Object`. But there are more specific ones, and you can define your own.\n",
        "\n",
        "Variables can point to values of different types. See below:"
      ]
    },
    {
      "cell_type": "code",
      "execution_count": 9,
      "metadata": {
        "colab": {
          "base_uri": "https://localhost:8080/"
        },
        "id": "40Uwt7THhsy1",
        "outputId": "d24f0df9-abde-415d-bfb4-1992f2bf6e64"
      },
      "outputs": [],
      "source": [
        "var_integer = 7\n",
        "print (\"INTEGER\", var_integer, type(var_integer))\n",
        "var_float = 7.01\n",
        "print (\"FLOAT\", var_float, type(var_float))\n",
        "var_string = \"Hello World!\"\n",
        "print (\"STRING\", var_string, type(var_string))\n",
        "var_boolean = True\n",
        "print (\"BOOLEAN\", var_boolean, type(var_boolean))"
      ]
    },
    {
      "cell_type": "markdown",
      "metadata": {},
      "source": [
        "Python, as you might expect, also has the concept of a list:"
      ]
    },
    {
      "cell_type": "code",
      "execution_count": 35,
      "metadata": {},
      "outputs": [],
      "source": [
        "mylist = [1, 2, 3, 4, 5, 6, 7, 8]\n",
        "type(mylist)"
      ]
    },
    {
      "cell_type": "code",
      "execution_count": 36,
      "metadata": {},
      "outputs": [],
      "source": [
        "for item in mylist:\n",
        "    print(item, type(item))"
      ]
    },
    {
      "cell_type": "markdown",
      "metadata": {},
      "source": [
        "Notice the indentation: python dispenses with brackets and uses a colon and indentation (here 4 spaces) to denote that the `print` statement runs in the context of our list.\n",
        "\n",
        "You can also get the length of the list:"
      ]
    },
    {
      "cell_type": "code",
      "execution_count": 37,
      "metadata": {},
      "outputs": [],
      "source": [
        "len(mylist)"
      ]
    },
    {
      "cell_type": "markdown",
      "metadata": {},
      "source": [
        "### Back to our example\n",
        "\n",
        "Now we can see that the code right at the beginning of our  example set us up with some integer variables that specified the size of some plots we want to create:"
      ]
    },
    {
      "cell_type": "code",
      "execution_count": 38,
      "metadata": {},
      "outputs": [],
      "source": [
        "width_inches = 9\n",
        "subplot_height_inches = 2\n",
        "baseurl = \"https://raw.githubusercontent.com/univai-ghf/ghfmedia/main/\""
      ]
    },
    {
      "cell_type": "markdown",
      "metadata": {},
      "source": [
        "The `baseurl` simply sets up a path to our data files. We use remote data files (which are supported by Pandas) here since Google Colab does not have good support for files."
      ]
    },
    {
      "cell_type": "markdown",
      "metadata": {
        "id": "nrjc0oIHizIv"
      },
      "source": [
        "### Comparisons\n",
        "\n",
        "Python has comparison operators, which can be used to make decisions:"
      ]
    },
    {
      "cell_type": "markdown",
      "metadata": {},
      "source": [
        "![](https://github.com/univai-ghf/ghfmedia/raw/main/images/condslide.png)"
      ]
    },
    {
      "cell_type": "code",
      "execution_count": 39,
      "metadata": {
        "colab": {
          "base_uri": "https://localhost:8080/"
        },
        "id": "H7alzW88igui",
        "outputId": "f2acfd80-3053-4c2a-820b-cb04377821c8"
      },
      "outputs": [],
      "source": [
        "a = \"hgi\"\n",
        "b = \"hello\"\n",
        "c = \"hi\"\n",
        "d = \"hello\"\n",
        "print (a==c)\n",
        "print (b==d)\n",
        "var1 = 5\n",
        "var2 = 3\n",
        "print (var1 < var2)"
      ]
    },
    {
      "cell_type": "markdown",
      "metadata": {
        "id": "IrYxzwOJjDAU"
      },
      "source": [
        "The first comparison compares the contents of the memory for a and c and finds that both are different, giving us False. Conversely, the second comparison gives us True. We can utilize such comparisons in \"decision statements\". The third is a numerical comparison. The fact that these comparisons give us a boolean value can be used in the decision-making:"
      ]
    },
    {
      "cell_type": "code",
      "execution_count": 40,
      "metadata": {
        "colab": {
          "base_uri": "https://localhost:8080/"
        },
        "id": "kS9VtABSjUiE",
        "outputId": "1f7f74e8-ce71-4b12-aad0-3df2e616d2ad"
      },
      "outputs": [],
      "source": [
        "var1 = 5\n",
        "var2 = 10\n",
        "\n",
        "if (var1 == var2):\n",
        "    print(\"The values are equal\")\n",
        "elif (var1 < var2):\n",
        "    print(\"First variable is lesser than the second variable\")  \n",
        "else:\n",
        "    print(\"Second variable is lesser than the first variable\")"
      ]
    },
    {
      "cell_type": "markdown",
      "metadata": {
        "id": "8rvW-j1QjYtU"
      },
      "source": [
        "Notice again how python dispenses with brackets, replacing them by a colon and an indented next line. The indentation tells us that the code below runs when the condition holds. Python uses this colon-indentation for many things, such as in for loops for iteration, for conditionals, for function and class definition, etc.\n",
        "\n",
        "Indeed you can nest conditionals inside iteration, with this colon-indentation syntax, to make very readable and usable code!"
      ]
    },
    {
      "cell_type": "code",
      "execution_count": 43,
      "metadata": {
        "colab": {
          "base_uri": "https://localhost:8080/"
        },
        "id": "qEPSTJTqnX90",
        "outputId": "25f213e2-2e1a-40a7-d639-20070c9f6b09"
      },
      "outputs": [],
      "source": [
        "mylist = [1, 2, 3, 4, 5, 6, 7, 8]\n",
        "for ele in mylist:\n",
        "    if ele % 2 == 0: #even numbers only\n",
        "        print(ele)"
      ]
    },
    {
      "cell_type": "markdown",
      "metadata": {},
      "source": [
        "## A: EXERCISES\n",
        "\n",
        "\n",
        "![](https://github.com/univai-ghf/ghfmedia/raw/main/images/2.png)"
      ]
    },
    {
      "cell_type": "markdown",
      "metadata": {
        "id": "927rJoinjjun"
      },
      "source": [
        "## 2. Libraries and Functions\n",
        "\n",
        "If all python did was to provide a calculator with variables that would not be very ineresting. We want to have access to pre-made **libraries** of functionality!"
      ]
    },
    {
      "cell_type": "markdown",
      "metadata": {
        "id": "927rJoinjjun"
      },
      "source": [
        "### Libraries\n",
        "\n",
        "At the beginning of this notebook we defined some strange looking symbols:"
      ]
    },
    {
      "cell_type": "code",
      "execution_count": 14,
      "metadata": {},
      "outputs": [],
      "source": [
        "import numpy as np\n",
        "import pandas as pd\n",
        "import matplotlib.pyplot as plt"
      ]
    },
    {
      "cell_type": "markdown",
      "metadata": {},
      "source": [
        "These are **imports** of **libraries** in the python ecosystem. They are also called **modules**. Having to write all of our code ourselves is no fun! Whats the whole point if we cant use code others have written for us?\n",
        "\n",
        "These imports allow us to use existing libraries. More precisely they allow us to use functions defined by others in these libraries. \n",
        "\n",
        "For example, we can say:\n",
        "\n",
        "```python\n",
        "import pandas\n",
        "df = pandas.read_csv(\"somefile.csv\") # Use a function from the library\n",
        "```\n",
        "\n",
        "or use `as` to provide a short form for the library name:\n",
        "```python\n",
        "import pandas as pd\n",
        "df = pd.read_csv(\"somefile.csv\")\n",
        "```\n",
        "\n",
        "But what IS a function, exactly?"
      ]
    },
    {
      "cell_type": "markdown",
      "metadata": {},
      "source": [
        "Combine with `if` to filter out some elements:"
      ]
    },
    {
      "cell_type": "markdown",
      "metadata": {
        "id": "927rJoinjjun"
      },
      "source": [
        "### Functions\n",
        "\n",
        "A function is an **encapsulated** set of statements that take input, do some specific computation and produce output.\n",
        "\n",
        "There are many ways to define functions:\n",
        "\n",
        "- Functions can be built-in to python\n",
        "- Functions can imported from an existing Python Library, including libraries you have installed\n",
        "- A function can be user defined\n",
        "- A function can be anonymous\n",
        "- functions can belong to objects. These functions are called **methods**.\n",
        "\n",
        "Properties of functions:\n",
        "\n",
        "- A function can be called from other functions\n",
        "- Can return data, or even other functions\n",
        "\n",
        "![](https://github.com/univai-ghf/ghfmedia/raw/main/images/runfuncs.png)"
      ]
    },
    {
      "cell_type": "code",
      "execution_count": 15,
      "metadata": {
        "colab": {
          "base_uri": "https://localhost:8080/"
        },
        "id": "zKtATFxFkJ4m",
        "outputId": "a0b84532-1f20-4f78-a419-1c786ad95183"
      },
      "outputs": [],
      "source": [
        "# Built-in functions\n",
        "\n",
        "var1 = -15\n",
        "abs(var1)"
      ]
    },
    {
      "cell_type": "markdown",
      "metadata": {
        "id": "B92MLiNpkSou"
      },
      "source": [
        "Here are the two different ways of importing a function from a module."
      ]
    },
    {
      "cell_type": "code",
      "execution_count": 16,
      "metadata": {
        "colab": {
          "base_uri": "https://localhost:8080/"
        },
        "id": "UgFRAMpmkWPh",
        "outputId": "577bf8c0-ab3e-45fb-aee5-2cebd0813d40"
      },
      "outputs": [],
      "source": [
        "import os\n",
        "os.cpu_count()"
      ]
    },
    {
      "cell_type": "markdown",
      "metadata": {},
      "source": [
        "The special `from` syntax allows us to import just one function:"
      ]
    },
    {
      "cell_type": "code",
      "execution_count": 17,
      "metadata": {
        "colab": {
          "base_uri": "https://localhost:8080/"
        },
        "id": "x6RN4wQBkQIB",
        "outputId": "4915c52c-e590-4ca8-ef4b-cf1361277e75"
      },
      "outputs": [],
      "source": [
        "from math import sqrt\n",
        "sqrt(4)"
      ]
    },
    {
      "cell_type": "markdown",
      "metadata": {},
      "source": [
        "Functions are not the only thing we can import: pre-defined variables representing constants or other objects (like a database connection) may be imported as well.\n",
        "\n",
        "```python\n",
        "import math\n",
        "print(math.pi)\n",
        "```\n",
        "\n",
        "One can even import a single variable from a library, using the `from` syntax:"
      ]
    },
    {
      "cell_type": "code",
      "execution_count": 18,
      "metadata": {},
      "outputs": [],
      "source": [
        "from math import pi"
      ]
    },
    {
      "cell_type": "markdown",
      "metadata": {},
      "source": [
        "Now let us **define our own function**:"
      ]
    },
    {
      "cell_type": "code",
      "execution_count": 19,
      "metadata": {},
      "outputs": [],
      "source": [
        "def circle_area(radius):\n",
        "    area = pi*radius*radius\n",
        "    return area\n",
        "circle_area(10)"
      ]
    },
    {
      "cell_type": "markdown",
      "metadata": {},
      "source": [
        "Notice the **indentation** of the function body, just as we did with conditional blocks...."
      ]
    },
    {
      "cell_type": "markdown",
      "metadata": {},
      "source": [
        "One can define **anonymous functions** and assign them to variables:"
      ]
    },
    {
      "cell_type": "code",
      "execution_count": 20,
      "metadata": {},
      "outputs": [],
      "source": [
        "from math import sqrt\n",
        "hypot = lambda x, y: sqrt(x*x + y*y) # imported from math\n",
        "hypot(3,4)"
      ]
    },
    {
      "cell_type": "markdown",
      "metadata": {},
      "source": [
        "In data science these are often used to define one-line math functions..."
      ]
    },
    {
      "cell_type": "markdown",
      "metadata": {},
      "source": [
        "### Back to our example"
      ]
    },
    {
      "cell_type": "markdown",
      "metadata": {},
      "source": [
        "At this point the following code should broadly make sense to you. We import the libraries we need, set up some variables, and define a function"
      ]
    },
    {
      "cell_type": "code",
      "execution_count": 21,
      "metadata": {},
      "outputs": [],
      "source": [
        "import numpy as np\n",
        "import pandas as pd\n",
        "import matplotlib.pyplot as plt\n",
        "%matplotlib inline"
      ]
    },
    {
      "cell_type": "code",
      "execution_count": 22,
      "metadata": {},
      "outputs": [],
      "source": [
        "width_inches = 9\n",
        "subplot_height_inches = 2\n",
        "baseurl = \"https://raw.githubusercontent.com/univai-ghf/ghfmedia/main/\""
      ]
    },
    {
      "cell_type": "code",
      "execution_count": 23,
      "metadata": {},
      "outputs": [],
      "source": [
        "def get_unemployment_data(state_abbrev):\n",
        "    data = pd.read_csv(baseurl+\"data/\"+state_abbrev+\"UR.csv\")\n",
        "    data['DATE'] = pd.to_datetime(data['DATE'])\n",
        "    return data"
      ]
    },
    {
      "cell_type": "markdown",
      "metadata": {},
      "source": [
        "What is going on inside the function? It loads some data from a csv, does something with a date and returns some data...let us break it down.\n",
        "\n",
        "Let us focus on the string inside the `pd.read_csv` call and what is inside it first:\n",
        "\n",
        "`state_abbrev` is provided as an argument to `get_unemployment_data` and we use it in the string. Lets simulate this outside of the function to understand:"
      ]
    },
    {
      "cell_type": "code",
      "execution_count": 24,
      "metadata": {},
      "outputs": [],
      "source": [
        "state_abbrev = 'CA'\n",
        "baseurl+\"data/\"+state_abbrev+\"UR.csv\""
      ]
    },
    {
      "cell_type": "markdown",
      "metadata": {},
      "source": [
        "So, the addition operator on strings simply concatenates them together. "
      ]
    },
    {
      "cell_type": "markdown",
      "metadata": {},
      "source": [
        "### Constructors, Methods and Instance variables"
      ]
    },
    {
      "cell_type": "markdown",
      "metadata": {},
      "source": [
        "Ok, now to read in the data. The `pd.read_csv` function is a **constructor function** that creates a Pandas **dataframe object** from a CSV file. The file can be at a remote url. A dataframe object is like a spreadsheet in memory:"
      ]
    },
    {
      "cell_type": "code",
      "execution_count": 25,
      "metadata": {},
      "outputs": [],
      "source": [
        "data = pd.read_csv(baseurl+\"data/\"+state_abbrev+\"UR.csv\")\n",
        "type(data)"
      ]
    },
    {
      "cell_type": "markdown",
      "metadata": {},
      "source": [
        "Now, various functions can be carried out on this dataframe. Functions that belong to objects are called **methods**. The `.head` method on dataframes shows us the first 5 rows of this spreadsheet, the column names, and row ids."
      ]
    },
    {
      "cell_type": "code",
      "execution_count": 26,
      "metadata": {},
      "outputs": [],
      "source": [
        "data.head()"
      ]
    },
    {
      "cell_type": "markdown",
      "metadata": {},
      "source": [
        "*lists* also have a list constructor and an append method to add things into them"
      ]
    },
    {
      "cell_type": "code",
      "execution_count": 44,
      "metadata": {},
      "outputs": [],
      "source": [
        "alist = list()\n",
        "alist.append(5.6)\n",
        "alist"
      ]
    },
    {
      "cell_type": "markdown",
      "metadata": {},
      "source": [
        "Objects can have **properties**, or **attributes**, also called **instance variables**, because they belong to an instance of the object. For example, if I want to know all the column types in a given dataframe object, I can use the `.dtypes` instance variable"
      ]
    },
    {
      "cell_type": "code",
      "execution_count": 27,
      "metadata": {},
      "outputs": [],
      "source": [
        "data.dtypes"
      ]
    },
    {
      "cell_type": "markdown",
      "metadata": {},
      "source": [
        "What is in the column? This is an interesting syntax, to be read as \"the `DATE` in the `data`\":"
      ]
    },
    {
      "cell_type": "code",
      "execution_count": 28,
      "metadata": {},
      "outputs": [],
      "source": [
        "data['DATE']"
      ]
    },
    {
      "cell_type": "code",
      "execution_count": 29,
      "metadata": {},
      "outputs": [],
      "source": [
        "type(data['DATE'])"
      ]
    },
    {
      "cell_type": "markdown",
      "metadata": {},
      "source": [
        "Its a Pandas Series: a series of dates to be precise, of length 550."
      ]
    },
    {
      "cell_type": "markdown",
      "metadata": {},
      "source": [
        "Notice that the `DATE` column has the generic `object` type. We really want a date. It turns out that a function defined in the pandas library can do this conversion for us:"
      ]
    },
    {
      "cell_type": "code",
      "execution_count": 31,
      "metadata": {},
      "outputs": [],
      "source": [
        "data['DATE'] = pd.to_datetime(data['DATE'])\n",
        "data.dtypes"
      ]
    },
    {
      "cell_type": "markdown",
      "metadata": {},
      "source": [
        "Note that I re-assigned the output of `pd.to_datetime` to `data['DATE']`. In other words I labeled a new piece of memory with the old post-it. What happened to the original piece of memory with the old series? Its been abandoned, and python will free its memory...this is called **garbage collection**.\n",
        "\n",
        "Reading in the data into a dataframe and then making a change to the `DATE` column is exactly what the function `get_unemployment_data` does:\n",
        "\n",
        "```python\n",
        "def get_unemployment_data(state_abbrev):\n",
        "    data = pd.read_csv(baseurl+\"data/\"+state_abbrev+\"UR.csv\")\n",
        "    data['DATE'] = pd.to_datetime(df['DATE'])\n",
        "    return data\n",
        "```"
      ]
    },
    {
      "cell_type": "markdown",
      "metadata": {},
      "source": [
        "This `data['DATE']` syntax says: look up whats in the dataframe `data` under the **key** `DATE`. Give us that column. The key is like a word in a dictionary: you look up a word and get its meaning...here you look up the key and get the data associated with it.\n",
        "\n",
        "Why is it like this?\n",
        "\n",
        "It is because python has a **data structure** called a **dictionary**. The creators of Pandas wanted a dataframe to feel like a dictionary...\n",
        "\n",
        "Let's learn a bit about dictionaries.."
      ]
    },
    {
      "cell_type": "markdown",
      "metadata": {},
      "source": [
        "## B. CODING BREAKOUT\n",
        "\n",
        "Here is a list of x-values, the deviations from the mean temperature of a mechanical device. The corresponding y-values are failures. Plotted, they look like this:\n",
        "\n",
        "![](images/failures.png)"
      ]
    },
    {
      "cell_type": "code",
      "execution_count": 30,
      "metadata": {},
      "outputs": [],
      "source": [
        "xvals = [-2.022945287808054, -1.8486091760122103, -1.8476481826866842, -1.7435854332654428, \n",
        "         -1.5282423673888716, -1.3945778557109074, -1.1403979924220742, -0.8009077275459544,\n",
        "         -0.7108560219444477, -0.5638678812593274, -0.43048994749879754, -0.4265240230310121,\n",
        "         -0.23456806947264375, -0.08933017942095312, 0.04091978204507629, 0.5542534388866378,\n",
        "         0.5558786314354511, 0.8006640938973202, 1.2144534202678483, 1.9118026057089639]\n",
        "y = [0, 0, 0, 0, 0, 0, 0, 0, 0, 1, 1, 0, 1, 1, 1, 1, 1, 1, 1, 1]"
      ]
    },
    {
      "cell_type": "markdown",
      "metadata": {},
      "source": [
        "Future you has run a logistic regression model and come up with the following parameters called slope and intercept:"
      ]
    },
    {
      "cell_type": "code",
      "execution_count": 31,
      "metadata": {},
      "outputs": [],
      "source": [
        "slope, intercept = (9.812037170985635, 5.175316482607568) "
      ]
    },
    {
      "cell_type": "markdown",
      "metadata": {},
      "source": [
        "This syntax is called the destructuring of another kind of list, called a tuple.\n",
        "\n",
        "1. Implement an anonymous or other function to calculate the probability of failure $p(x)$:\n",
        "\n",
        "$$p(x) = \\frac{1}{1+e^{-(b + m x)}}$$\n",
        "\n",
        "where $m$ is the slope and $b$ is the intercept. Use the function you defined to create an array `probs` of the probability of failures at the 20 temperatures above"
      ]
    },
    {
      "cell_type": "code",
      "execution_count": 32,
      "metadata": {},
      "outputs": [],
      "source": [
        "# your code here\n"
      ]
    },
    {
      "cell_type": "markdown",
      "metadata": {},
      "source": [
        "2. Use these probabilities to make classifications at each of these 20 x-values in a new list `classi`. A data point is classified as a failure if the probability of failure $p(x)$ is greater than or equal to the probability of not failing (which is $1 - p(x)$. Compare these to the $y$ values in the data set to report the fraction of correctly classified failures (an element in `classi` is equal to the corresponding element in $y$) from the model. (you will need to create a counter which you increment to track the total number of correctly classified data points."
      ]
    },
    {
      "cell_type": "code",
      "execution_count": 33,
      "metadata": {},
      "outputs": [],
      "source": [
        "# your code here\n"
      ]
    },
    {
      "cell_type": "markdown",
      "metadata": {
        "id": "2ScIB5ykqc5M"
      },
      "source": [
        "## 3. Dictionaries\n",
        "\n",
        "![](https://github.com/univai-ghf/ghfmedia/raw/main/images/dict.png)\n",
        "\n",
        "A dictionary is a \"bag\" of **value**s, each with its own label, called a **key**. \n",
        "\n",
        "A unique 'key' is associated with each 'value' . The 'key' can be any **immutable data type**: boolean, float, int, tuple, string (but it is often a string)\n",
        "\n",
        "Dictionaries themselves are \"Mutable\" (the values can be changed)."
      ]
    },
    {
      "cell_type": "markdown",
      "metadata": {},
      "source": [
        "You can create a dictionary using the `{}` notation, which is an alias for calling the constructor `dict()`."
      ]
    },
    {
      "cell_type": "code",
      "execution_count": 34,
      "metadata": {
        "colab": {
          "base_uri": "https://localhost:8080/"
        },
        "id": "QPBdWy84qsFl",
        "outputId": "06fff31c-dfcc-46de-9401-94cab24e739e"
      },
      "outputs": [],
      "source": [
        "# Creating a dictionary:\n",
        "# 1. Using {}\n",
        "empty_dict = {} \n",
        "print (type(empty_dict))\n",
        "new_dict = { \"day\": 5, \"venue\": \"GJB\", \"event\": \"Python Carnival!\" }\n",
        "print(new_dict)"
      ]
    },
    {
      "cell_type": "code",
      "execution_count": 33,
      "metadata": {},
      "outputs": [],
      "source": [
        "another_empty_dict = dict()\n",
        "another_empty_dict"
      ]
    },
    {
      "cell_type": "markdown",
      "metadata": {},
      "source": [
        "The `dict` constructor can take arguments to initialize the dictionary:"
      ]
    },
    {
      "cell_type": "code",
      "execution_count": 36,
      "metadata": {
        "colab": {
          "base_uri": "https://localhost:8080/"
        },
        "id": "m2iT93clrDiM",
        "outputId": "d7d8713d-006b-4b85-ca5f-c9cb9927fe93"
      },
      "outputs": [],
      "source": [
        "#2. Using dict()\n",
        "purse = dict(type=\"wallet\", material=\"leather\")\n",
        "purse"
      ]
    },
    {
      "cell_type": "markdown",
      "metadata": {
        "id": "GzH2VuEqry-o"
      },
      "source": [
        "Getting and Setting values from a dictionary is easy:"
      ]
    },
    {
      "cell_type": "code",
      "execution_count": 37,
      "metadata": {
        "colab": {
          "base_uri": "https://localhost:8080/",
          "height": 37
        },
        "id": "hUPBbJTgr2JY",
        "outputId": "768b237d-ce69-4290-b236-d4af69251d77"
      },
      "outputs": [],
      "source": [
        "purse['type']"
      ]
    },
    {
      "cell_type": "code",
      "execution_count": 38,
      "metadata": {
        "colab": {
          "base_uri": "https://localhost:8080/"
        },
        "id": "IP3h7K8prF6T",
        "outputId": "2fc69c07-e80b-4760-a494-019f5f1a5f5b"
      },
      "outputs": [],
      "source": [
        "purse['make'] = \"Versace\"\n",
        "purse"
      ]
    },
    {
      "cell_type": "markdown",
      "metadata": {
        "id": "bdapLUbwrgmw"
      },
      "source": [
        "![](https://github.com/univai-ghf/ghfmedia/raw/main/images/dictmethod.png)\n"
      ]
    },
    {
      "cell_type": "markdown",
      "metadata": {},
      "source": [
        "## C. EXERCISES\n",
        "\n",
        "\n",
        "![](https://github.com/univai-ghf/ghfmedia/raw/main/images/3.png)"
      ]
    },
    {
      "cell_type": "markdown",
      "metadata": {},
      "source": [
        "![](https://github.com/univai-ghf/ghfmedia/raw/main/images/4.png)"
      ]
    },
    {
      "cell_type": "markdown",
      "metadata": {
        "id": "7mIkf6kRlvy5"
      },
      "source": [
        "## 4. Lists and Listiness.. or behaving like a list\n",
        "\n",
        "Python puts great stock in the idea of having protocols or mechanisms of behavior, and identifying cases in which this behavior is common.\n",
        "\n",
        "One of the most important ideas is that of things that behave like a list of items.\n",
        "\n",
        "These include lists, strings, dictionaries, pandas series, and even files! Many other data structures in Python are made to behave like lists as well, so that their content can be iterated through, in addition to their own native behavior."
      ]
    },
    {
      "cell_type": "markdown",
      "metadata": {
        "id": "7mIkf6kRlvy5"
      },
      "source": [
        "### Lists, again\n",
        "\n",
        "![](https://github.com/univai-ghf/ghfmedia/raw/main/images/lists.png)\n",
        "\n",
        "Here is a list our initial code created:"
      ]
    },
    {
      "cell_type": "code",
      "execution_count": 39,
      "metadata": {},
      "outputs": [],
      "source": [
        "states = ['AL', 'TN', 'TX', 'NY', 'CA']"
      ]
    },
    {
      "cell_type": "markdown",
      "metadata": {},
      "source": [
        "We have seen that you can create an empty list using the `list()` constructor, and add things to it using the `append` method. "
      ]
    },
    {
      "cell_type": "markdown",
      "metadata": {},
      "source": [
        "But the constructor can take arguments: a very useful one is a **range** object, which is an un-materialized sequence..one that is not loaded into memory (why would you not materialize a sequence? ). "
      ]
    },
    {
      "cell_type": "code",
      "execution_count": 41,
      "metadata": {},
      "outputs": [],
      "source": [
        "range(1,5)"
      ]
    },
    {
      "cell_type": "code",
      "execution_count": 42,
      "metadata": {
        "colab": {
          "base_uri": "https://localhost:8080/"
        },
        "id": "sKftKsU5mKS8",
        "outputId": "42abc8ff-52b4-42d5-c1cf-5e8d1613ba64"
      },
      "outputs": [],
      "source": [
        "lst = list(range(1,5))\n",
        "lst"
      ]
    },
    {
      "cell_type": "markdown",
      "metadata": {
        "id": "MLZNK3_Rmao4"
      },
      "source": [
        "![](https://github.com/univai-ghf/ghfmedia/raw/main/images/listops.png)"
      ]
    },
    {
      "cell_type": "markdown",
      "metadata": {},
      "source": [
        "How would you access various elements of `lst` ? You can get the first and the last like so:"
      ]
    },
    {
      "cell_type": "code",
      "execution_count": 43,
      "metadata": {
        "colab": {
          "base_uri": "https://localhost:8080/"
        },
        "id": "sKftKsU5mKS8",
        "outputId": "42abc8ff-52b4-42d5-c1cf-5e8d1613ba64"
      },
      "outputs": [],
      "source": [
        "print (lst[0],lst[-1])"
      ]
    },
    {
      "cell_type": "markdown",
      "metadata": {},
      "source": [
        "Rememer Python is like buildings in India..you start at the ground or 0th floor: so `lst[0]` is the *first* item in the list. "
      ]
    },
    {
      "cell_type": "markdown",
      "metadata": {},
      "source": [
        "Or a **slice** of the list as so:"
      ]
    },
    {
      "cell_type": "code",
      "execution_count": 44,
      "metadata": {
        "colab": {
          "base_uri": "https://localhost:8080/"
        },
        "id": "czQ1Vd07mhQr",
        "outputId": "a595ce2c-d2f0-4447-f256-1ff9fda91fa1"
      },
      "outputs": [],
      "source": [
        "lst[0:3] # from 0 upto 3, dont include whats at index 3. Can also say lst[:3], 0 is implied"
      ]
    },
    {
      "cell_type": "code",
      "execution_count": 45,
      "metadata": {
        "colab": {
          "base_uri": "https://localhost:8080/"
        },
        "id": "tXi6tdKGmkNH",
        "outputId": "ac7b93e1-276e-4e54-b60f-fa15cd9caa1a"
      },
      "outputs": [],
      "source": [
        "lst[-3:-1]"
      ]
    },
    {
      "cell_type": "markdown",
      "metadata": {},
      "source": [
        "How do you know that something is in a list?"
      ]
    },
    {
      "cell_type": "code",
      "execution_count": 34,
      "metadata": {
        "colab": {
          "base_uri": "https://localhost:8080/"
        },
        "id": "S3n0bTcUmt34",
        "outputId": "b06b407b-621c-4c15-9c0a-0a81c4627bf6"
      },
      "outputs": [],
      "source": [
        "# Membership (using 'in' operator)\n",
        "courses = ['PP', 'RD', 'JG']\n",
        "'PP' in courses"
      ]
    },
    {
      "cell_type": "markdown",
      "metadata": {
        "id": "FLKWEot9nNFZ"
      },
      "source": [
        "### Comprehensions\n"
      ]
    },
    {
      "cell_type": "markdown",
      "metadata": {
        "id": "QqUiaw7Xneav"
      },
      "source": [
        "There is a short-cut iteration syntax called a **list comprehension**, often used to construct new lists"
      ]
    },
    {
      "cell_type": "code",
      "execution_count": 48,
      "metadata": {},
      "outputs": [],
      "source": [
        "num = [4, 7, 2, 6, 3, 9]"
      ]
    },
    {
      "cell_type": "code",
      "execution_count": 49,
      "metadata": {
        "colab": {
          "base_uri": "https://localhost:8080/"
        },
        "id": "uCDuB1PvncOP",
        "outputId": "7bad03d8-f06d-4a84-d5fc-c19aa5204e21"
      },
      "outputs": [],
      "source": [
        "list_with_same_as_num = [e for e in num]\n",
        "list_with_same_as_num"
      ]
    },
    {
      "cell_type": "code",
      "execution_count": 50,
      "metadata": {
        "colab": {
          "base_uri": "https://localhost:8080/"
        },
        "id": "iFlgf3MmnmN-",
        "outputId": "7642798e-536a-4529-c432-34ccedb466c1"
      },
      "outputs": [],
      "source": [
        "squared_list = [e*e for e in num]\n",
        "squared_list"
      ]
    },
    {
      "cell_type": "code",
      "execution_count": 51,
      "metadata": {
        "colab": {
          "base_uri": "https://localhost:8080/"
        },
        "id": "qrTcWIwgnib-",
        "outputId": "a5275655-25f9-439f-dd33-b63e38dd359e"
      },
      "outputs": [],
      "source": [
        "list_with_evens = [e for e in num if e % 2 == 0]\n",
        "list_with_evens"
      ]
    },
    {
      "cell_type": "markdown",
      "metadata": {},
      "source": [
        "Python has a *ternary* expression you can use in conjunction with a comprehension to bring in the power of *else* in a succint syntax:"
      ]
    },
    {
      "cell_type": "code",
      "execution_count": 52,
      "metadata": {},
      "outputs": [],
      "source": [
        "a = 1\n",
        "b = \"good\" if a==1 else \"bad\"\n",
        "b"
      ]
    },
    {
      "cell_type": "code",
      "execution_count": 53,
      "metadata": {},
      "outputs": [],
      "source": [
        "[e if e % 2 == 0 else 5 for e in num ]"
      ]
    },
    {
      "cell_type": "markdown",
      "metadata": {},
      "source": [
        "### Listiness\n",
        "\n",
        "How about other things that behave like lists?"
      ]
    },
    {
      "cell_type": "markdown",
      "metadata": {},
      "source": [
        "Dictionaries are listy, with the iteration going the keys:"
      ]
    },
    {
      "cell_type": "code",
      "execution_count": 53,
      "metadata": {},
      "outputs": [],
      "source": [
        "purse"
      ]
    },
    {
      "cell_type": "code",
      "execution_count": 54,
      "metadata": {},
      "outputs": [],
      "source": [
        "for key in purse:\n",
        "    print(key,\":\",purse[key])"
      ]
    },
    {
      "cell_type": "markdown",
      "metadata": {},
      "source": [
        "Pandas Series are listy too: (Our series of dates in `data` is big so i print only the first 10)"
      ]
    },
    {
      "cell_type": "code",
      "execution_count": 55,
      "metadata": {},
      "outputs": [],
      "source": [
        "for date in data['DATE'][:10]:\n",
        "    print(date)"
      ]
    },
    {
      "cell_type": "markdown",
      "metadata": {},
      "source": [
        "### Numpy's `ndarray`s\n",
        "\n",
        "Pandas Series objects are actually are thin veneers around a different list type in Python, called the `ndarray`. Unlike regular Python lists, `ndarray`s cannot have heterogeneous elements: all elements must have the same type. This means that python can optimize how these arrays are stored and accessed, which leads to faster access.\n",
        "\n",
        "Pandas series are actually thin veneers around numpy arrays. Look:"
      ]
    },
    {
      "cell_type": "code",
      "execution_count": 56,
      "metadata": {},
      "outputs": [],
      "source": [
        "caurvalues = data['CAUR'].values\n",
        "caurvalues"
      ]
    },
    {
      "cell_type": "code",
      "execution_count": 57,
      "metadata": {},
      "outputs": [],
      "source": [
        "type(caurvalues)"
      ]
    },
    {
      "cell_type": "code",
      "execution_count": 58,
      "metadata": {},
      "outputs": [],
      "source": [
        "caurvalues.dtype"
      ]
    },
    {
      "cell_type": "markdown",
      "metadata": {},
      "source": [
        "Here all these floating point numbers are stored next to each other in memory.\n",
        "\n",
        "While you can iterate over `ndarray`s, you are advised not to. This is because the `numpy` library optimizes operations over entire arrays, the so called **vectorized** operations, to be very fast. It also re-purposes standard python syntax for this..\n",
        "\n",
        "Dont do this:"
      ]
    },
    {
      "cell_type": "code",
      "execution_count": 59,
      "metadata": {},
      "outputs": [],
      "source": [
        "squares = []\n",
        "for element in caurvalues:\n",
        "    squares.append(element*element)"
      ]
    },
    {
      "cell_type": "markdown",
      "metadata": {},
      "source": [
        "But rather do this:"
      ]
    },
    {
      "cell_type": "code",
      "execution_count": 60,
      "metadata": {},
      "outputs": [],
      "source": [
        "squares = caurvalues*caurvalues "
      ]
    },
    {
      "cell_type": "markdown",
      "metadata": {},
      "source": [
        "In this calculation the `*` operations work pairwise: each element of the `caurvalues` array is multiplied by itself to create the new array. Because there is no iteration and Python handles the multiplication internally, this is a fast operation"
      ]
    },
    {
      "cell_type": "markdown",
      "metadata": {},
      "source": [
        "The `numpy` library also gives us access to some simple statistics for these unemployment rates:"
      ]
    },
    {
      "cell_type": "code",
      "execution_count": 61,
      "metadata": {},
      "outputs": [],
      "source": [
        "np.mean(caurvalues)"
      ]
    },
    {
      "cell_type": "code",
      "execution_count": 62,
      "metadata": {},
      "outputs": [],
      "source": [
        "np.median(caurvalues)"
      ]
    },
    {
      "cell_type": "code",
      "execution_count": 63,
      "metadata": {},
      "outputs": [],
      "source": [
        "np.std(caurvalues)"
      ]
    },
    {
      "cell_type": "markdown",
      "metadata": {},
      "source": [
        "There are many other ways of creating numpy arrays. You will learn these in time."
      ]
    },
    {
      "cell_type": "code",
      "execution_count": 64,
      "metadata": {},
      "outputs": [],
      "source": [
        "my_array = np.array([1, 2, 3, 4])\n",
        "my_array"
      ]
    },
    {
      "cell_type": "markdown",
      "metadata": {},
      "source": [
        "### Back to our example"
      ]
    },
    {
      "cell_type": "markdown",
      "metadata": {},
      "source": [
        "We now create an empty dictionary `state_data` to hold all our data. Then we iterate over our states, reading the CSV file for each state and putting the resultant Pandas Dataframes as the value corresponding to the state abbreviation key in the dictionary"
      ]
    },
    {
      "cell_type": "code",
      "execution_count": 65,
      "metadata": {},
      "outputs": [],
      "source": [
        "states = ['AL', 'TN', 'TX', 'NY', 'CA']\n",
        "state_data=dict()\n",
        "for abbrev in states:\n",
        "    state_data[abbrev] = get_unemployment_data(abbrev)"
      ]
    },
    {
      "cell_type": "code",
      "execution_count": 66,
      "metadata": {},
      "outputs": [],
      "source": [
        "state_data"
      ]
    },
    {
      "cell_type": "markdown",
      "metadata": {},
      "source": [
        "## D. EXERCISES"
      ]
    },
    {
      "cell_type": "markdown",
      "metadata": {},
      "source": [
        "![](https://github.com/univai-ghf/ghfmedia/raw/main/images/5.png)"
      ]
    },
    {
      "cell_type": "markdown",
      "metadata": {},
      "source": [
        "![](https://github.com/univai-ghf/ghfmedia/raw/main/images/6.png)"
      ]
    },
    {
      "cell_type": "markdown",
      "metadata": {},
      "source": [
        "## 5. Plotting using the library `matplotlib`\n",
        "\n",
        "The standard plotting library in python is `matplotlib`, which is a very powerful plotting library. Let us see how to plot the time series of unemployment numbers from California.\n",
        "\n",
        "We first import the library and instruct it to plot \"inline\" in the Jupyter notebook."
      ]
    },
    {
      "cell_type": "code",
      "execution_count": 67,
      "metadata": {},
      "outputs": [],
      "source": [
        "import matplotlib.pyplot as plt\n",
        "%matplotlib inline"
      ]
    },
    {
      "cell_type": "markdown",
      "metadata": {},
      "source": [
        "We first create a figure, and axes associated with this figure using the figure constructor. The relationship of the axes to the figure can be seen in this diagram from Brandon Rohrer's excellent free matplotlib course at https://end-to-end-machine-learning.teachable.com/p/navigating-matplotlib-tutorial-how-to/ .\n",
        "\n",
        "For us though, the main thing to know is that figures hold axes, and axes hold lines. This plot from the above course illustrates this well:\n",
        "\n",
        "![](https://github.com/univai-ghf/ghfmedia/raw/main/images/figax.png)"
      ]
    },
    {
      "cell_type": "markdown",
      "metadata": {},
      "source": [
        "The `subplots` constructor, in the `matplotlib.pyplot` module, returns us BOTH these objects:"
      ]
    },
    {
      "cell_type": "code",
      "execution_count": 68,
      "metadata": {},
      "outputs": [],
      "source": [
        "fig, ax = plt.subplots(figsize = (9,6))"
      ]
    },
    {
      "cell_type": "code",
      "execution_count": 69,
      "metadata": {},
      "outputs": [],
      "source": [
        "type(fig)"
      ]
    },
    {
      "cell_type": "code",
      "execution_count": 70,
      "metadata": {},
      "outputs": [],
      "source": [
        "type(ax)"
      ]
    },
    {
      "cell_type": "markdown",
      "metadata": {},
      "source": [
        "The axes object has a method `plot` defined on it. \n",
        "\n",
        "It takes as its first argument something listy for the x-axis..a list, or a numpy `ndarray`, or a Pandas Series. \n",
        "\n",
        "The second argument represents the y-data, also something listy. So, for example:"
      ]
    },
    {
      "cell_type": "code",
      "execution_count": 71,
      "metadata": {},
      "outputs": [],
      "source": [
        "fig, ax = plt.subplots(figsize = (9,6))\n",
        "ax.plot(data['DATE'], data['CAUR'])"
      ]
    },
    {
      "cell_type": "markdown",
      "metadata": {},
      "source": [
        "We'll use some other methods on the axes object to create a nicely labeled plot:"
      ]
    },
    {
      "cell_type": "code",
      "execution_count": 72,
      "metadata": {},
      "outputs": [],
      "source": [
        "fig, ax = plt.subplots(figsize = (9,6))\n",
        "ax.plot(data['DATE'], data['CAUR'])\n",
        "ax.set_xlabel(\"Year\")\n",
        "ax.set_ylabel(\"Percentage\")\n",
        "ax.set_title(\"State of California Un-employment\");"
      ]
    },
    {
      "cell_type": "markdown",
      "metadata": {},
      "source": [
        "## E. CODING BREAKOUT\n",
        "\n",
        "Here is a dictionary with the percentage of double vaccinated (against Covid-19) people in the population in 50 US States."
      ]
    },
    {
      "cell_type": "code",
      "execution_count": 55,
      "metadata": {},
      "outputs": [],
      "source": [
        "vaxdict = {'Alaska': 52.3,\n",
        " 'Alabama': 45.6,\n",
        " 'Arkansas': 48.9,\n",
        " 'Arizona': 54.2,\n",
        " 'California': 63.3,\n",
        " 'Colorado': 63.3,\n",
        " 'Connecticut': 71.0,\n",
        " 'Delaware': 60.7,\n",
        " 'Florida': 59.1,\n",
        " 'Georgia': 49.2,\n",
        " 'Hawaii': 60.8,\n",
        " 'Iowa': 55.8,\n",
        " 'Idaho': 43.2,\n",
        " 'Illinois': 61.5,\n",
        " 'Indiana': 49.4,\n",
        " 'Kansas': 54.5,\n",
        " 'Kentucky': 51.2,\n",
        " 'Louisiana': 47.9,\n",
        " 'Massachusetts': 71.8,\n",
        " 'Maryland': 67.8,\n",
        " 'Maine': 69.9,\n",
        " 'Michigan': 54.5,\n",
        " 'Minnesota': 62.9,\n",
        " 'Missouri': 50.6,\n",
        " 'Mississippi': 46.7,\n",
        " 'Montana': 50.6,\n",
        " 'North Carolina': 53.5,\n",
        " 'North Dakota': 49.6,\n",
        " 'Nebraska': 57.5,\n",
        " 'New Hampshire': 62.5,\n",
        " 'New Jersey': 67.2,\n",
        " 'New Mexico': 63.3,\n",
        " 'Nevada': 52.7,\n",
        " 'New York': 67.9,\n",
        " 'Ohio': 52.7,\n",
        " 'Oklahoma': 51.2,\n",
        " 'Oregon': 62.9,\n",
        " 'Pennsylvania': 59.3,\n",
        " 'Rhode Island': 74.1,\n",
        " 'South Carolina': 50.6,\n",
        " 'South Dakota': 54.3,\n",
        " 'Tennessee': 49.3,\n",
        " 'Texas': 54.1,\n",
        " 'Utah': 55.6,\n",
        " 'Virginia': 65.2,\n",
        " 'Vermont': 74.0,\n",
        " 'Washington': 64.2,\n",
        " 'Wisconsin': 59.3,\n",
        " 'West Virginia': 52.8,\n",
        " 'Wyoming': 44.4}"
      ]
    },
    {
      "cell_type": "markdown",
      "metadata": {},
      "source": [
        "Let's plot a histogram of percentage of double vaccinated (against Covid-19) people in the US states. Label the x and y axis and set a title"
      ]
    },
    {
      "cell_type": "code",
      "execution_count": 58,
      "metadata": {},
      "outputs": [],
      "source": [
        "# making a list of all the values in the vaxdict dictionary\n",
        "vaccinated_percentages_list=list(vaxdict.values())\n",
        "\n",
        "# your code here\n"
      ]
    },
    {
      "cell_type": "markdown",
      "metadata": {},
      "source": [
        "## 6. Putting it all together\n",
        "\n",
        "We are now in the position of keeping our promise of being able to make a comparative plot of employment rates."
      ]
    },
    {
      "cell_type": "code",
      "execution_count": 59,
      "metadata": {},
      "outputs": [],
      "source": [
        "import numpy as np\n",
        "import pandas as pd\n",
        "import matplotlib.pyplot as plt\n",
        "%matplotlib inline"
      ]
    },
    {
      "cell_type": "code",
      "execution_count": 60,
      "metadata": {},
      "outputs": [],
      "source": [
        "width_inches = 9\n",
        "subplot_height_inches = 2\n",
        "baseurl = \"https://raw.githubusercontent.com/univai-ghf/ghfmedia/main/\""
      ]
    },
    {
      "cell_type": "code",
      "execution_count": 61,
      "metadata": {},
      "outputs": [],
      "source": [
        "def get_unemployment_data(state_abbrev):\n",
        "    data = pd.read_csv(baseurl+\"data/\"+state_abbrev+\"UR.csv\")\n",
        "    data['DATE'] = pd.to_datetime(data['DATE'])\n",
        "    return data"
      ]
    },
    {
      "cell_type": "markdown",
      "metadata": {},
      "source": [
        "We now provide the `subplots` constructor function with an additional argument, the number of rows. We want to make a figure with multiple rows, each row corresponding to a state. The figure size needs to change too, as the height must keep up with the number of states in the `states` list. Then, the enumeration gives us the index for each state, and uses that index to match the axes for the subplot. We use that axes to plot the corresponding data, labeling the y-axis for each subplot with the state abbreviation. Finally we set an x-label on the last axes, and a title on the first one!"
      ]
    },
    {
      "cell_type": "code",
      "execution_count": 62,
      "metadata": {},
      "outputs": [],
      "source": [
        "fig, ax = plt.subplots(nrows=len(states), \n",
        "    figsize = (width_inches, subplot_height_inches*len(states)))\n",
        "counter = 0\n",
        "for state_abbrev in states:\n",
        "    data = state_data[state_abbrev]\n",
        "    ax[counter].plot(data['DATE'], data[state_abbrev+'UR'])\n",
        "    ax[counter].set_ylabel(state_abbrev)\n",
        "    counter = counter + 1\n",
        "ax[-1].set_xlabel(\"Year\")\n",
        "ax[0].set_title(\"Percentage Un-employment\");"
      ]
    },
    {
      "cell_type": "markdown",
      "metadata": {},
      "source": [
        "## 7. What did you learn?\n",
        "\n",
        "At the end of this workshop, you are now able to create reasonably complex plots from data! \n",
        "\n",
        "This is because you understand enough of Python to be dangerous: its libraries, its dictionaries, how many things behave like lists, and how these lists can be used to make plots.\n",
        "\n",
        "Go forth and have fun!"
      ]
    }
  ]
}