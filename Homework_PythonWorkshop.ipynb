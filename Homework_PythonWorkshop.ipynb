{
  "metadata": {
    "kernelspec": {
      "display_name": "ml1-arm64",
      "language": "python",
      "name": "ml1-arm64"
    },
    "language_info": {
      "codemirror_mode": {
        "name": "ipython",
        "version": 3
      },
      "file_extension": ".py",
      "mimetype": "text/x-python",
      "name": "python",
      "nbconvert_exporter": "python",
      "pygments_lexer": "ipython3",
      "version": "3.9.1"
    }
  },
  "nbformat": 4,
  "nbformat_minor": 4,
  "cells": [
    {
      "cell_type": "markdown",
      "metadata": {},
      "source": [
        "# Homework for the Python Basics Workshop"
      ]
    },
    {
      "cell_type": "markdown",
      "metadata": {},
      "source": [
        "Ok, so we delivered on our promise of making you capable of writing non-trivial python programs. Now, you can become even more dangerous by learning how to read text files directly, and then how to parse these text files and calculate statistics on the words inside of them. We're going to expose you to files and strings and ask you to do some data analysis using them."
      ]
    },
    {
      "cell_type": "markdown",
      "metadata": {
        "id": "zk7aypXSoCOJ"
      },
      "source": [
        "### Files\n",
        "\n",
        "The built-in `open()` function is a **constructor** that creates a Python file object, which serves as a link to a file residing on your machine. After calling 'open()', data can be transferred to and from the associated file by calling the returned file object's **methods**.\n",
        "\n",
        "At this point, you can read data from the file as a whole (`.read()`, or n bytes at a time, `.read(n`). You can read a line at a time with `.readline()`, and all the lines into a list of strings  with `.readlines()`. Or simply treat the file like a list and iterate through it: you will get line by line. Similar methods exist for writing.\n",
        "\n",
        "You must close the file `.close()` after you finish using it.\n",
        "\n",
        "![](https://github.com/univai-ghf/ghfmedia/raw/main/images/filemethods.png)"
      ]
    },
    {
      "cell_type": "markdown",
      "metadata": {},
      "source": [
        "The next line is to fetch data into Colab. You can safely ignore it."
      ]
    },
    {
      "cell_type": "code",
      "execution_count": 3,
      "metadata": {},
      "outputs": [],
      "source": [
        "mkdir -p data; pushd data; wget https://raw.githubusercontent.com/univai-ghf/ghfmedia/main/data/JuliusCaesar.txt; popd"
      ]
    },
    {
      "cell_type": "code",
      "execution_count": 4,
      "metadata": {},
      "outputs": [],
      "source": [
        "fd = open(\"data/JuliusCaesar.txt\")\n",
        "thecontents = fd.read()\n",
        "fd.close()\n",
        "type(thecontents)"
      ]
    },
    {
      "cell_type": "markdown",
      "metadata": {},
      "source": [
        "The text read in from a file is a **string** of characters. Gere are the first 200"
      ]
    },
    {
      "cell_type": "code",
      "execution_count": 5,
      "metadata": {},
      "outputs": [],
      "source": [
        "thecontents[0:200]"
      ]
    },
    {
      "cell_type": "markdown",
      "metadata": {},
      "source": [
        "### Strings\n",
        "\n",
        "Strings are objects which behave like lists, but just like lists, also have methods defined on them."
      ]
    },
    {
      "cell_type": "code",
      "execution_count": 6,
      "metadata": {},
      "outputs": [],
      "source": [
        "# a long string in python split over multiple lines\n",
        "alongstring = \"\"\"\n",
        "Hello World\n",
        "Hello My Friends\n",
        "\"\"\""
      ]
    },
    {
      "cell_type": "code",
      "execution_count": 7,
      "metadata": {},
      "outputs": [],
      "source": [
        "# a string is listy\n",
        "for character in alongstring:\n",
        "    print(character, end=\":\")"
      ]
    },
    {
      "cell_type": "code",
      "execution_count": 8,
      "metadata": {},
      "outputs": [],
      "source": [
        "# how did I find the arguments to print out?\n",
        "?print"
      ]
    },
    {
      "cell_type": "markdown",
      "metadata": {},
      "source": [
        "Here's a method that splits the string on whitespace (including newlines, tabs, and spaces)"
      ]
    },
    {
      "cell_type": "code",
      "execution_count": 9,
      "metadata": {},
      "outputs": [],
      "source": [
        "alongstring.split()"
      ]
    },
    {
      "cell_type": "markdown",
      "metadata": {},
      "source": [
        "### Files are like lists"
      ]
    },
    {
      "cell_type": "code",
      "execution_count": 10,
      "metadata": {
        "colab": {
          "base_uri": "https://localhost:8080/"
        },
        "id": "3K2UQWeqoA60",
        "outputId": "2a3897fb-6638-4c8c-b931-6099345e5a45"
      },
      "outputs": [],
      "source": [
        "fd = open(\"data/JuliusCaesar.txt\")\n",
        "counter = 0\n",
        "for line in fd:\n",
        "    if counter < 10: # print first 10 lines, there are lots!\n",
        "        print(\"<<\", line, \">>\")\n",
        "    counter = counter + 1 # also writeable as counter += 1\n",
        "fd.close()"
      ]
    },
    {
      "cell_type": "markdown",
      "metadata": {
        "id": "tzPQVSS5oytQ"
      },
      "source": [
        "Notice that the newlines remain. You can use the string method `strip` on `line` to remove them. "
      ]
    },
    {
      "cell_type": "code",
      "execution_count": 11,
      "metadata": {
        "colab": {
          "base_uri": "https://localhost:8080/"
        },
        "id": "GCi3pOLaoo2p",
        "outputId": "416bf6f3-4754-4e08-a9f4-7968ff5079a8"
      },
      "outputs": [],
      "source": [
        "fd = open(\"data/JuliusCaesar.txt\")\n",
        "counter = 0\n",
        "for line in fd:\n",
        "    if counter < 10: # print first 10 lines\n",
        "        print(\"<<\", line.strip(), \">>\")\n",
        "    else:\n",
        "        break # break out of for loop\n",
        "    counter = counter + 1 # also writeable as counter += 1\n",
        "fd.close()\n",
        "print(counter)"
      ]
    },
    {
      "cell_type": "markdown",
      "metadata": {
        "id": "rzdMCkOBpMFx"
      },
      "source": [
        "### What about writing?\n",
        "\n",
        "We may want to modify or process files, and then write them out. For this we must use the `open` constructor with an additional argument, which signifies that we are in a writing mode."
      ]
    },
    {
      "cell_type": "code",
      "execution_count": 12,
      "metadata": {
        "colab": {
          "base_uri": "https://localhost:8080/"
        },
        "id": "o9smIsSapKSy",
        "outputId": "6f1a0432-ee67-4064-dc9f-a8b086c6ce51"
      },
      "outputs": [],
      "source": [
        "fd2 = open(\"data/JuliusCaesar2.txt\", \"w\")\n",
        "fd2.write(thecontents)\n",
        "fd2.close()"
      ]
    },
    {
      "cell_type": "markdown",
      "metadata": {},
      "source": [
        "## Finally the homework QUESTION"
      ]
    },
    {
      "cell_type": "markdown",
      "metadata": {},
      "source": [
        "1. Read Julius Caesar. \n",
        "2. Get each line. \n",
        "3. Remove newline characters from each line. \n",
        "4. Split the line to get the words from the line (use the split method on strings). \n",
        "5. Lowercase them (use the `lower` method on strings).\n",
        "6. Now let us make a histogram that has the counts of all the words in the play except for words which are in `stop_words` list provided below. This list contains a most common words in the english language like 'and', 'the', 'i', 'we'. \n",
        "7. Your output is a dictionary `worddict` which will store these counts as values, with the words as keys."
      ]
    },
    {
      "cell_type": "code",
      "execution_count": null,
      "metadata": {},
      "outputs": [],
      "source": [
        "mkdir -p data; pushd data; wget https://raw.githubusercontent.com/univai-ghf/ghfmedia/main/data/stopwords.pkl; popd"
      ]
    },
    {
      "cell_type": "code",
      "execution_count": 20,
      "metadata": {
        "scrolled": true
      },
      "outputs": [],
      "source": [
        "# pickle library serializes and de-serializes a \n",
        "# Python object structure.\n",
        "# In simple words it can be used to save python \n",
        "# objects(almost everything in python is an object)\n",
        "import pickle\n",
        "fd = open('data/stopwords.pkl','rb') # binary read\n",
        "stop_words=pickle.load(fd)\n",
        "fd.close()\n",
        "\n",
        "#display the first 20 elements in the list\n",
        "stop_words[:20]"
      ]
    },
    {
      "cell_type": "code",
      "execution_count": 15,
      "metadata": {},
      "outputs": [],
      "source": [
        "# your code here\n"
      ]
    },
    {
      "cell_type": "markdown",
      "metadata": {},
      "source": [
        "We sort the worddict, using the function worddict.get to provide the values, which are the counts. We print the top 20 counts"
      ]
    },
    {
      "cell_type": "code",
      "execution_count": 16,
      "metadata": {},
      "outputs": [],
      "source": [
        "topwords = sorted(worddict, key = worddict.get, reverse=True)\n",
        "top20 = topwords[:20]\n",
        "for word in top20:\n",
        "    print(word, worddict[word])"
      ]
    },
    {
      "cell_type": "markdown",
      "metadata": {},
      "source": [
        "Now we use matplotlib to plot a horizontal bar chart for these top 20"
      ]
    },
    {
      "cell_type": "code",
      "execution_count": 18,
      "metadata": {},
      "outputs": [],
      "source": [
        "# various imports of libraries\n",
        "\n",
        "import numpy as np\n",
        "import matplotlib.pyplot as plt\n",
        "\n",
        "# ask matplotlib to plot in notebooks\n",
        "%matplotlib inline\n",
        "fig, ax = plt.subplots(figsize=(9, 7))\n",
        "pos = range(len(top20))\n",
        "ax.barh(pos, [worddict[word] for word in top20],\n",
        "                     align='center',\n",
        "                     tick_label=top20)\n",
        "ax.set_title('Most frequent words in THE TRAGEDY OF JULIUS CAESAR')\n",
        "plt.show()"
      ]
    }
  ]
}